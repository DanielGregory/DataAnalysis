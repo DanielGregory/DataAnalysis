{
  "nbformat": 4,
  "nbformat_minor": 0,
  "metadata": {
    "colab": {
      "provenance": [],
      "authorship_tag": "ABX9TyOGCllkiDnjVsppEm+lpIvp",
      "include_colab_link": true
    },
    "kernelspec": {
      "name": "python3",
      "display_name": "Python 3"
    },
    "language_info": {
      "name": "python"
    }
  },
  "cells": [
    {
      "cell_type": "markdown",
      "metadata": {
        "id": "view-in-github",
        "colab_type": "text"
      },
      "source": [
        "<a href=\"https://colab.research.google.com/github/DanielGregory/DataAnalysis/blob/main/Data_Analysis_Report.ipynb\" target=\"_parent\"><img src=\"https://colab.research.google.com/assets/colab-badge.svg\" alt=\"Open In Colab\"/></a>"
      ]
    },
    {
      "cell_type": "code",
      "execution_count": null,
      "metadata": {
        "colab": {
          "base_uri": "https://localhost:8080/"
        },
        "id": "srn4-tU2EjZ1",
        "outputId": "ebc355ac-2623-4db4-f600-1a6c454d8efa"
      },
      "outputs": [
        {
          "output_type": "stream",
          "name": "stdout",
          "text": [
            "Reading package lists... Done\n",
            "Building dependency tree... Done\n",
            "Reading state information... Done\n",
            "The following NEW packages will be installed:\n",
            "  jags\n",
            "0 upgraded, 1 newly installed, 0 to remove and 34 not upgraded.\n",
            "Need to get 1,644 kB of archives.\n",
            "After this operation, 3,492 kB of additional disk space will be used.\n",
            "Get:1 https://cloud.r-project.org/bin/linux/ubuntu jammy-cran40/ jags 4.3.2-1.2204.0 [1,644 kB]\n",
            "Fetched 1,644 kB in 0s (6,767 kB/s)\n",
            "Selecting previously unselected package jags.\n",
            "(Reading database ... 126102 files and directories currently installed.)\n",
            "Preparing to unpack .../jags_4.3.2-1.2204.0_amd64.deb ...\n",
            "Unpacking jags (4.3.2-1.2204.0) ...\n",
            "Setting up jags (4.3.2-1.2204.0) ...\n",
            "Processing triggers for man-db (2.10.2-1) ...\n",
            "Processing triggers for libc-bin (2.35-0ubuntu3.8) ...\n",
            "/sbin/ldconfig.real: /usr/local/lib/libtbbbind_2_0.so.3 is not a symbolic link\n",
            "\n",
            "/sbin/ldconfig.real: /usr/local/lib/libumf.so.0 is not a symbolic link\n",
            "\n",
            "/sbin/ldconfig.real: /usr/local/lib/libtbbbind.so.3 is not a symbolic link\n",
            "\n",
            "/sbin/ldconfig.real: /usr/local/lib/libur_adapter_opencl.so.0 is not a symbolic link\n",
            "\n",
            "/sbin/ldconfig.real: /usr/local/lib/libhwloc.so.15 is not a symbolic link\n",
            "\n",
            "/sbin/ldconfig.real: /usr/local/lib/libur_adapter_level_zero.so.0 is not a symbolic link\n",
            "\n",
            "/sbin/ldconfig.real: /usr/local/lib/libtbbmalloc.so.2 is not a symbolic link\n",
            "\n",
            "/sbin/ldconfig.real: /usr/local/lib/libtcm_debug.so.1 is not a symbolic link\n",
            "\n",
            "/sbin/ldconfig.real: /usr/local/lib/libtcm.so.1 is not a symbolic link\n",
            "\n",
            "/sbin/ldconfig.real: /usr/local/lib/libur_loader.so.0 is not a symbolic link\n",
            "\n",
            "/sbin/ldconfig.real: /usr/local/lib/libtbbbind_2_5.so.3 is not a symbolic link\n",
            "\n",
            "/sbin/ldconfig.real: /usr/local/lib/libtbbmalloc_proxy.so.2 is not a symbolic link\n",
            "\n",
            "/sbin/ldconfig.real: /usr/local/lib/libtbb.so.12 is not a symbolic link\n",
            "\n"
          ]
        }
      ],
      "source": [
        "!apt-get install -y jags"
      ]
    },
    {
      "cell_type": "code",
      "source": [
        "%load_ext rpy2.ipython"
      ],
      "metadata": {
        "id": "KPx8xX1aEpVh"
      },
      "execution_count": null,
      "outputs": []
    },
    {
      "cell_type": "code",
      "source": [
        "%%R\n",
        "# Load required libraries\n",
        "install.packages(\"rjags\", repos=\"http://cran.rstudio.com\")\n",
        "library(rjags)\n",
        "library(coda)\n",
        "library(dplyr)"
      ],
      "metadata": {
        "colab": {
          "base_uri": "https://localhost:8080/",
          "height": 191
        },
        "id": "UCOY5lgBRmhT",
        "outputId": "422e40b0-dfa5-47d6-b1a9-bef6a16c2994"
      },
      "execution_count": null,
      "outputs": [
        {
          "output_type": "display_data",
          "data": {
            "text/plain": [
              "Installing package into ‘/usr/local/lib/R/site-library’\n",
              "(as ‘lib’ is unspecified)\n",
              "trying URL 'http://cran.rstudio.com/src/contrib/rjags_4-17.tar.gz'\n",
              "Content type 'application/x-gzip' length 76394 bytes (74 KB)\n",
              "==================================================\n",
              "downloaded 74 KB\n",
              "\n",
              "\n",
              "The downloaded source packages are in\n",
              "\t‘/tmp/RtmpbMqBWe/downloaded_packages’\n"
            ]
          },
          "metadata": {}
        }
      ]
    },
    {
      "cell_type": "code",
      "source": [
        "%%R\n",
        "# Load the dataset\n",
        "data <- read.csv(\"launches.csv\")"
      ],
      "metadata": {
        "id": "1gYCmF94EqVU"
      },
      "execution_count": null,
      "outputs": []
    },
    {
      "cell_type": "code",
      "source": [
        "%%R\n",
        "# Center and rescale SinceFirst\n",
        "data <- data %>%\n",
        "  mutate(SinceFirst_scaled = (SinceFirst - mean(SinceFirst, na.rm = TRUE)) / (2 * sd(SinceFirst, na.rm = TRUE)))\n"
      ],
      "metadata": {
        "id": "b6aiNz9JSpmc"
      },
      "execution_count": null,
      "outputs": []
    },
    {
      "cell_type": "code",
      "source": [
        "%%R\n",
        "# Prepare data for JAGS\n",
        "data_jags <- list(\n",
        "  y = data$Success,\n",
        "  x = data$SinceFirst_scaled,\n",
        "  N = nrow(data)\n",
        ")"
      ],
      "metadata": {
        "id": "DWpsn8kYSsMy"
      },
      "execution_count": null,
      "outputs": []
    },
    {
      "cell_type": "code",
      "source": [
        "%%R\n",
        "# Write model to a file\n",
        "model_string <- \"\n",
        "model {\n",
        "  for (i in 1:N) {\n",
        "    y[i] ~ dbern(p[i])\n",
        "    logit(p[i]) <- beta0 + beta1 * x[i]\n",
        "  }\n",
        "  beta0 ~ dt(0, pow(1/10, 2), 1)\n",
        "  beta1 ~ dt(0, pow(1/2.5, 2), 1)\n",
        "}\n",
        "\"\n",
        "writeLines(model_string, \"model.bug\")"
      ],
      "metadata": {
        "id": "HA4KQEx3RSuk"
      },
      "execution_count": null,
      "outputs": []
    },
    {
      "cell_type": "code",
      "source": [
        "%%R\n",
        "# Initialize and run the model\n",
        "model <- jags.model(\"model.bug\", data = data_jags, n.chains = 3, n.adapt = 1000)\n",
        "\n",
        "# Burn-in\n",
        "update(model, n.iter = 2000)\n",
        "\n",
        "# Sample from posterior\n",
        "samples <- coda.samples(model,\n",
        "                        variable.names = c(\"beta0\", \"beta1\"),\n",
        "                        n.iter = 5000, thin =3)\n",
        "\n",
        "# Combine chains\n",
        "posterior <- as.mcmc(do.call(rbind, samples))"
      ],
      "metadata": {
        "colab": {
          "base_uri": "https://localhost:8080/"
        },
        "id": "658H1mJbR4e6",
        "outputId": "800bd9c9-1e3b-4ec9-97dc-ab27fd1d3e82"
      },
      "execution_count": null,
      "outputs": [
        {
          "output_type": "stream",
          "name": "stdout",
          "text": [
            "Compiling model graph\n",
            "   Resolving undeclared variables\n",
            "   Allocating nodes\n",
            "Graph information:\n",
            "   Observed stochastic nodes: 380\n",
            "   Unobserved stochastic nodes: 2\n",
            "   Total graph size: 1783\n",
            "\n",
            "Initializing model\n",
            "\n",
            "  |++++++++++++++++++++++++++++++++++++++++++++++++++| 100%\n",
            "  |**************************************************| 100%\n",
            "  |**************************************************| 100%\n"
          ]
        }
      ]
    },
    {
      "cell_type": "code",
      "source": [
        "%%R\n",
        "# Summary\n",
        "summary_stats <- summary(samples)\n",
        "ess_value <- effectiveSize(samples)\n",
        "print(summary_stats)\n",
        "print(ess_value)"
      ],
      "metadata": {
        "colab": {
          "base_uri": "https://localhost:8080/"
        },
        "id": "TfvRaNBGR-ru",
        "outputId": "73542a75-b9dc-4d2a-ab36-fc4b602fd98a"
      },
      "execution_count": null,
      "outputs": [
        {
          "output_type": "stream",
          "name": "stdout",
          "text": [
            "\n",
            "Iterations = 3003:7998\n",
            "Thinning interval = 3 \n",
            "Number of chains = 3 \n",
            "Sample size per chain = 1666 \n",
            "\n",
            "1. Empirical mean and standard deviation for each variable,\n",
            "   plus standard error of the mean:\n",
            "\n",
            "       Mean     SD Naive SE Time-series SE\n",
            "beta0 1.860 0.1634 0.002312       0.002540\n",
            "beta1 1.374 0.4284 0.006060       0.006613\n",
            "\n",
            "2. Quantiles for each variable:\n",
            "\n",
            "        2.5%   25%   50%   75% 97.5%\n",
            "beta0 1.5532 1.745 1.853 1.968 2.198\n",
            "beta1 0.5932 1.074 1.352 1.650 2.252\n",
            "\n",
            "   beta0    beta1 \n",
            "4142.470 4200.885 \n"
          ]
        }
      ]
    },
    {
      "cell_type": "code",
      "source": [
        "%%R\n",
        "# Posterior P(beta1 > 0)\n",
        "prob_positive_beta1 <- mean(posterior[, \"beta1\"] > 0)\n",
        "cat(\"Posterior P(beta1 > 0):\", prob_positive_beta1, \"\\n\")\n"
      ],
      "metadata": {
        "colab": {
          "base_uri": "https://localhost:8080/"
        },
        "id": "3k3-SBDrSDCO",
        "outputId": "37567878-2407-486d-dcdd-2b6713dc4a7a"
      },
      "execution_count": null,
      "outputs": [
        {
          "output_type": "stream",
          "name": "stdout",
          "text": [
            "Posterior P(beta1 > 0): 1 \n"
          ]
        }
      ]
    },
    {
      "cell_type": "code",
      "source": [
        "%%R\n",
        "# Prob of success on first attempt (x = 0)\n",
        "p_first <- 1 / (1 + exp(-posterior[, \"beta0\"]))\n",
        "cred_interval <- quantile(p_first, probs = c(0.025, 0.975))\n",
        "cat(\"95% CI for success on first attempt:\", cred_interval, \"\\n\")"
      ],
      "metadata": {
        "colab": {
          "base_uri": "https://localhost:8080/"
        },
        "id": "DzdVe1EXSI9S",
        "outputId": "e2ce37ad-a764-43e5-b8b4-37a9b5fd8333"
      },
      "execution_count": null,
      "outputs": [
        {
          "output_type": "stream",
          "name": "stdout",
          "text": [
            "95% CI for success on first attempt: 0.8253687 0.900029 \n"
          ]
        }
      ]
    },
    {
      "cell_type": "code",
      "source": [
        "%%R\n",
        "# (f) DIC\n",
        "dic_result <- dic.samples(model, n.iter = 5000)\n",
        "print(dic_result)"
      ],
      "metadata": {
        "colab": {
          "base_uri": "https://localhost:8080/"
        },
        "id": "Ed8hkzW2SN6N",
        "outputId": "edb44c0b-51b7-4665-c807-8584920857ce"
      },
      "execution_count": null,
      "outputs": [
        {
          "output_type": "stream",
          "name": "stdout",
          "text": [
            "  |**************************************************| 100%\n",
            "Mean deviance:  313.4 \n",
            "penalty 1.993 \n",
            "Penalized deviance: 315.4 \n"
          ]
        }
      ]
    },
    {
      "cell_type": "code",
      "source": [
        "%%R\n",
        "# Preprocess the data\n",
        "data2 <- data %>%\n",
        "  mutate(\n",
        "    SinceFirst_scaled = (SinceFirst - mean(SinceFirst)) / (2 * sd(SinceFirst)),\n",
        "    VehicleID = as.integer(factor(Vehicle))  # Convert vehicle to integer index\n",
        "  )\n"
      ],
      "metadata": {
        "id": "QzL42McHTyT6"
      },
      "execution_count": null,
      "outputs": []
    },
    {
      "cell_type": "code",
      "source": [
        "%%R\n",
        "# Prepare data for JAGS\n",
        "data_jags_2 <- list(\n",
        "  y = data2$Success,\n",
        "  x = data2$SinceFirst_scaled,\n",
        "  vehicle = data2$VehicleID,\n",
        "  N = nrow(data2),\n",
        "  J = length(unique(data2$VehicleID))\n",
        ")"
      ],
      "metadata": {
        "id": "MSOmkz4zT9fG"
      },
      "execution_count": null,
      "outputs": []
    },
    {
      "cell_type": "code",
      "source": [
        "%%R\n",
        "#  Write JAGS model to file\n",
        "cat(\"\n",
        "model {\n",
        "  for (i in 1:N) {\n",
        "    y[i] ~ dbern(p[i])\n",
        "    logit(p[i]) <- alpha + beta * x[i] + vehicle_effect[vehicle[i]]\n",
        "  }\n",
        "  #priors for fixed effects\n",
        "  alpha ~ dt(0, 1 / (10^2), 1)\n",
        "  beta ~ dt(0, 1 / (2.5^2), 1)\n",
        "\n",
        "  #random effects for vehicle type\n",
        "  for (j in 1:J) {\n",
        "    vehicle_effect[j] ~ dnorm(0, tau_vehicle)\n",
        "  }\n",
        "  #hyperparameter for standard deviation\n",
        "  tau_vehicle <- 1 / (sigma_vehicle^2)\n",
        "  sigma_vehicle ~ dunif(0, 10)\n",
        "}\n",
        "\", file = \"model2.txt\")"
      ],
      "metadata": {
        "id": "eznLJtHjUcCH"
      },
      "execution_count": null,
      "outputs": []
    },
    {
      "cell_type": "code",
      "source": [
        "%%R\n",
        "#  Run the model\n",
        "set.seed(123)\n",
        "model <- jags.model(\"model2.txt\", data = data_jags_2, n.chains = 3, n.adapt = 1000)\n",
        "\n",
        "update(model, 5000)  # Burn-in\n",
        "\n",
        "samples2 <- coda.samples(model,\n",
        "                        variable.names = c(\"alpha\", \"beta\", \"sigma_vehicle\", \"vehicle_effect\"),\n",
        "                        n.iter = 10000, thin = 3)"
      ],
      "metadata": {
        "colab": {
          "base_uri": "https://localhost:8080/"
        },
        "id": "FaqL2xGOUg2b",
        "outputId": "cde308b9-6ca3-48c4-833c-b3a1cf0d54bd"
      },
      "execution_count": null,
      "outputs": [
        {
          "output_type": "stream",
          "name": "stdout",
          "text": [
            "Compiling model graph\n",
            "   Resolving undeclared variables\n",
            "   Allocating nodes\n",
            "Graph information:\n",
            "   Observed stochastic nodes: 380\n",
            "   Unobserved stochastic nodes: 38\n",
            "   Total graph size: 2286\n",
            "\n",
            "Initializing model\n",
            "\n",
            "  |++++++++++++++++++++++++++++++++++++++++++++++++++| 100%\n",
            "  |**************************************************| 100%\n",
            "  |**************************************************| 100%\n"
          ]
        }
      ]
    },
    {
      "cell_type": "code",
      "source": [
        "%%R\n",
        "# Posterior summary\n",
        "summary_stats <- summary(samples2)\n",
        "ess_value <- effectiveSize(samples2)\n",
        "\n",
        "posterior_mean_sd <- summary_stats$statistics\n",
        "posterior_CI <- summary_stats$quantiles[, c(\"2.5%\", \"97.5%\")]\n",
        "print(summary_stats)\n",
        "print(posterior_mean_sd[c(\"alpha\", \"beta\", \"sigma_vehicle\"), ])\n",
        "print(posterior_CI[c(\"alpha\", \"beta\", \"sigma_vehicle\"), ])\n",
        "print(ess_value)\n"
      ],
      "metadata": {
        "colab": {
          "base_uri": "https://localhost:8080/"
        },
        "id": "6m5eWSYSUl-F",
        "outputId": "2d223f01-20fc-4e5e-f88f-c5e353a217c4"
      },
      "execution_count": null,
      "outputs": [
        {
          "output_type": "stream",
          "name": "stdout",
          "text": [
            "\n",
            "Iterations = 6003:15999\n",
            "Thinning interval = 3 \n",
            "Number of chains = 3 \n",
            "Sample size per chain = 3333 \n",
            "\n",
            "1. Empirical mean and standard deviation for each variable,\n",
            "   plus standard error of the mean:\n",
            "\n",
            "                       Mean     SD Naive SE Time-series SE\n",
            "alpha               1.68379 0.3147 0.003148       0.006279\n",
            "beta                1.06353 0.4729 0.004729       0.006265\n",
            "sigma_vehicle       1.28269 0.3664 0.003664       0.009058\n",
            "vehicle_effect[1]  -1.50043 0.7663 0.007664       0.010841\n",
            "vehicle_effect[2]   1.09367 0.7657 0.007658       0.009641\n",
            "vehicle_effect[3]  -0.93869 0.9587 0.009588       0.012598\n",
            "vehicle_effect[4]   1.02974 0.5341 0.005341       0.007423\n",
            "vehicle_effect[5]   0.18197 0.8679 0.008679       0.009758\n",
            "vehicle_effect[6]  -1.03726 0.8131 0.008131       0.010627\n",
            "vehicle_effect[7]  -1.15995 0.7315 0.007316       0.009509\n",
            "vehicle_effect[8]   0.41063 1.1893 0.011894       0.013349\n",
            "vehicle_effect[9]   1.04561 1.0712 0.010713       0.014027\n",
            "vehicle_effect[10]  0.32179 0.8457 0.008457       0.009149\n",
            "vehicle_effect[11]  0.33911 0.5558 0.005559       0.007750\n",
            "vehicle_effect[12] -0.28202 0.7743 0.007744       0.008654\n",
            "vehicle_effect[13]  1.58826 0.9779 0.009779       0.015606\n",
            "vehicle_effect[14]  1.72321 0.9940 0.009940       0.015194\n",
            "vehicle_effect[15]  1.28527 1.0138 0.010138       0.014451\n",
            "vehicle_effect[16]  0.96685 1.0735 0.010735       0.014146\n",
            "vehicle_effect[17] -0.61787 0.6947 0.006947       0.008590\n",
            "vehicle_effect[18]  0.26948 0.5237 0.005237       0.007790\n",
            "vehicle_effect[19] -0.90311 1.2000 0.012000       0.015042\n",
            "vehicle_effect[20] -0.15684 0.9438 0.009438       0.009603\n",
            "vehicle_effect[21]  0.77045 1.0814 0.010815       0.012729\n",
            "vehicle_effect[22]  0.05314 0.6799 0.006799       0.009452\n",
            "vehicle_effect[23]  0.08204 0.8678 0.008679       0.009214\n",
            "vehicle_effect[24] -0.27677 0.7654 0.007654       0.009034\n",
            "vehicle_effect[25] -1.42444 0.7862 0.007862       0.011262\n",
            "vehicle_effect[26] -0.17365 0.9477 0.009478       0.010225\n",
            "vehicle_effect[27] -1.42170 1.1205 0.011206       0.016425\n",
            "vehicle_effect[28] -0.45950 1.0307 0.010307       0.010896\n",
            "vehicle_effect[29]  0.29761 0.8531 0.008531       0.009585\n",
            "vehicle_effect[30]  0.65499 1.1153 0.011153       0.013036\n",
            "vehicle_effect[31] -0.90202 1.2043 0.012043       0.015038\n",
            "vehicle_effect[32]  0.41353 1.1925 0.011925       0.012450\n",
            "vehicle_effect[33] -0.77245 0.8698 0.008698       0.010643\n",
            "vehicle_effect[34]  0.65352 0.6788 0.006789       0.008413\n",
            "vehicle_effect[35] -0.88263 1.1782 0.011782       0.014152\n",
            "\n",
            "2. Quantiles for each variable:\n",
            "\n",
            "                       2.5%      25%      50%     75%    97.5%\n",
            "alpha               1.06607  1.47972  1.68894  1.8864  2.30421\n",
            "beta                0.15812  0.74296  1.05283  1.3744  2.00987\n",
            "sigma_vehicle       0.67071  1.02810  1.24392  1.4961  2.11656\n",
            "vehicle_effect[1]  -3.09411 -1.99169 -1.46724 -0.9671 -0.10780\n",
            "vehicle_effect[2]  -0.25866  0.56503  1.03407  1.5497  2.79633\n",
            "vehicle_effect[3]  -2.92936 -1.54152 -0.89255 -0.2851  0.85693\n",
            "vehicle_effect[4]   0.03699  0.66419  1.00810  1.3787  2.12596\n",
            "vehicle_effect[5]  -1.42790 -0.38498  0.13819  0.7171  2.01631\n",
            "vehicle_effect[6]  -2.72490 -1.56290 -1.00957 -0.4832  0.47170\n",
            "vehicle_effect[7]  -2.65790 -1.62665 -1.13543 -0.6746  0.24577\n",
            "vehicle_effect[8]  -1.81321 -0.36095  0.35075  1.1255  2.96093\n",
            "vehicle_effect[9]  -0.75772  0.31363  0.94175  1.6531  3.46023\n",
            "vehicle_effect[10] -1.25804 -0.23830  0.28276  0.8539  2.11894\n",
            "vehicle_effect[11] -0.68565 -0.03868  0.31433  0.6926  1.51618\n",
            "vehicle_effect[12] -1.78744 -0.79025 -0.27987  0.2257  1.24936\n",
            "vehicle_effect[13]  0.01688  0.90668  1.46722  2.1558  3.85447\n",
            "vehicle_effect[14]  0.16431  1.02109  1.59558  2.2860  4.04041\n",
            "vehicle_effect[15] -0.38731  0.57999  1.17922  1.8744  3.59283\n",
            "vehicle_effect[16] -0.82587  0.22752  0.84554  1.5806  3.43513\n",
            "vehicle_effect[17] -1.97659 -1.07418 -0.61799 -0.1587  0.74780\n",
            "vehicle_effect[18] -0.71557 -0.08871  0.25690  0.6052  1.33569\n",
            "vehicle_effect[19] -3.53553 -1.60653 -0.81705 -0.1185  1.28137\n",
            "vehicle_effect[20] -2.01756 -0.76764 -0.16578  0.4390  1.74824\n",
            "vehicle_effect[21] -1.12761  0.04560  0.68262  1.3866  3.18318\n",
            "vehicle_effect[22] -1.22458 -0.40856  0.03394  0.4862  1.46962\n",
            "vehicle_effect[23] -1.53946 -0.50619  0.04969  0.6362  1.90105\n",
            "vehicle_effect[24] -1.72675 -0.79499 -0.29651  0.2097  1.31085\n",
            "vehicle_effect[25] -3.04913 -1.92203 -1.40389 -0.8950  0.04889\n",
            "vehicle_effect[26] -2.03739 -0.80119 -0.17269  0.4357  1.75444\n",
            "vehicle_effect[27] -3.88581 -2.09630 -1.34102 -0.6507  0.54874\n",
            "vehicle_effect[28] -2.53087 -1.11598 -0.44199  0.1952  1.59261\n",
            "vehicle_effect[29] -1.22978 -0.27721  0.24915  0.8176  2.13895\n",
            "vehicle_effect[30] -1.32165 -0.09180  0.57014  1.3335  3.10168\n",
            "vehicle_effect[31] -3.52850 -1.60866 -0.83468 -0.0912  1.28781\n",
            "vehicle_effect[32] -1.75016 -0.37345  0.34255  1.1326  2.98835\n",
            "vehicle_effect[33] -2.54312 -1.32770 -0.76476 -0.2016  0.92310\n",
            "vehicle_effect[34] -0.57864  0.18204  0.61556  1.0815  2.09373\n",
            "vehicle_effect[35] -3.37557 -1.59233 -0.82477 -0.1090  1.29841\n",
            "\n",
            "                  Mean        SD    Naive SE Time-series SE\n",
            "alpha         1.683787 0.3147405 0.003147562    0.006279218\n",
            "beta          1.063530 0.4729091 0.004729327    0.006264760\n",
            "sigma_vehicle 1.282687 0.3663738 0.003663921    0.009057995\n",
            "                   2.5%    97.5%\n",
            "alpha         1.0660672 2.304208\n",
            "beta          0.1581219 2.009869\n",
            "sigma_vehicle 0.6707066 2.116559\n",
            "             alpha               beta      sigma_vehicle  vehicle_effect[1] \n",
            "          2520.772           5779.795           1649.305           4997.906 \n",
            " vehicle_effect[2]  vehicle_effect[3]  vehicle_effect[4]  vehicle_effect[5] \n",
            "          6325.827           5928.079           5229.931           7975.519 \n",
            " vehicle_effect[6]  vehicle_effect[7]  vehicle_effect[8]  vehicle_effect[9] \n",
            "          5879.886           5943.745           8156.355           5835.666 \n",
            "vehicle_effect[10] vehicle_effect[11] vehicle_effect[12] vehicle_effect[13] \n",
            "          8543.117           5158.328           8056.331           3947.046 \n",
            "vehicle_effect[14] vehicle_effect[15] vehicle_effect[16] vehicle_effect[17] \n",
            "          4287.305           4934.367           5803.410           6546.125 \n",
            "vehicle_effect[18] vehicle_effect[19] vehicle_effect[20] vehicle_effect[21] \n",
            "          4528.631           6375.206           9655.571           7382.315 \n",
            "vehicle_effect[22] vehicle_effect[23] vehicle_effect[24] vehicle_effect[25] \n",
            "          5217.289           8870.333           7202.360           4913.482 \n",
            "vehicle_effect[26] vehicle_effect[27] vehicle_effect[28] vehicle_effect[29] \n",
            "          8625.932           4678.818           8962.053           7951.405 \n",
            "vehicle_effect[30] vehicle_effect[31] vehicle_effect[32] vehicle_effect[33] \n",
            "          7358.367           6466.072           9172.139           6733.867 \n",
            "vehicle_effect[34] vehicle_effect[35] \n",
            "          6588.308           6938.029 \n"
          ]
        }
      ]
    },
    {
      "cell_type": "code",
      "source": [
        "%%R\n",
        "# Load devtools\n",
        "library(devtools)\n",
        "\n",
        "#Install the package using devtools\n",
        "devtools::install_github(\"stan-dev/bayesplot\")\n",
        "\n",
        "# Load bayesplot\n",
        "library(bayesplot)"
      ],
      "metadata": {
        "colab": {
          "base_uri": "https://localhost:8080/",
          "height": 52
        },
        "id": "hyXeTJRXVojP",
        "outputId": "5a8ea2b9-583f-43f1-da35-7f4e1a0f7313"
      },
      "execution_count": null,
      "outputs": [
        {
          "output_type": "display_data",
          "data": {
            "text/plain": [
              "Skipping install of 'bayesplot' from a github remote, the SHA1 (23e00b5d) has not changed since last install.\n",
              "  Use `force = TRUE` to force installation\n"
            ]
          },
          "metadata": {}
        }
      ]
    },
    {
      "cell_type": "code",
      "source": [
        "%%R\n",
        "# Convert MCMC samples to matrix\n",
        "samples_matrix <- as.matrix(samples2)\n",
        "\n",
        "# Plot density for sigma_vehicle\n",
        "mcmc_dens(samples_matrix, pars = \"sigma_vehicle\")+\n",
        "  ylab(\"Density\") +\n",
        "  ggtitle(\"Posterior Density of σ_vehicle\")\n"
      ],
      "metadata": {
        "colab": {
          "base_uri": "https://localhost:8080/",
          "height": 497
        },
        "id": "dbNOCqb_Uqan",
        "outputId": "24188ff8-380e-4ee8-e6c5-170f0d02a710"
      },
      "execution_count": null,
      "outputs": [
        {
          "output_type": "display_data",
          "data": {
            "image/png": "[encoded data removed]",
            "text/plain": [
              "<IPython.core.display.Image object>"
            ]
          },
          "metadata": {}
        }
      ]
    },
    {
      "cell_type": "code",
      "source": [
        "%%R\n",
        "#  DIC\n",
        "dic_val <- dic.samples(model, n.iter = 5000, type = \"pD\")\n",
        "print(dic_val)\n"
      ],
      "metadata": {
        "colab": {
          "base_uri": "https://localhost:8080/"
        },
        "id": "FWiFwRrKUuRg",
        "outputId": "18c55f61-7f54-42ce-a4ad-bf60ff2f41ac"
      },
      "execution_count": null,
      "outputs": [
        {
          "output_type": "stream",
          "name": "stdout",
          "text": [
            "  |**************************************************| 100%\n",
            "Mean deviance:  270.5 \n",
            "penalty 20.54 \n",
            "Penalized deviance: 291.1 \n"
          ]
        }
      ]
    },
    {
      "cell_type": "code",
      "source": [
        "%%R\n",
        "#  Most reliable vehicle analysis\n",
        "vehicle_effect_samples <- as.matrix(samples2)[, grep(\"vehicle_effect\\\\[\", colnames(as.matrix(samples2)))]\n",
        "most_reliable_vehicle_index <- apply(vehicle_effect_samples, 1, which.max)\n",
        "vehicle_counts <- table(most_reliable_vehicle_index)\n",
        "most_likely_vehicle <- as.integer(names(which.max(vehicle_counts)))\n",
        "posterior_prob_most_reliable <- max(vehicle_counts) / sum(vehicle_counts)\n",
        "\n",
        "vehicle_name <- levels(factor(data2$Vehicle))[most_likely_vehicle]\n",
        "cat(\"\\nMost reliable vehicle type:\", vehicle_name, \"\\n\")\n",
        "cat(\"Posterior probability it is most reliable:\", round(posterior_prob_most_reliable, 3), \"\\n\")"
      ],
      "metadata": {
        "colab": {
          "base_uri": "https://localhost:8080/"
        },
        "id": "JuhjREZUUxEr",
        "outputId": "92c94275-0c7c-4d64-a95f-15faeb5cf3b1"
      },
      "execution_count": null,
      "outputs": [
        {
          "output_type": "stream",
          "name": "stdout",
          "text": [
            "\n",
            "Most reliable vehicle type: Long March 6 \n",
            "Posterior probability it is most reliable: 0.21 \n"
          ]
        }
      ]
    }
  ]
}